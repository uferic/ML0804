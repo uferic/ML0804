{
  "nbformat": 4,
  "nbformat_minor": 0,
  "metadata": {
    "colab": {
      "name": "test.ipynb",
      "provenance": [],
      "private_outputs": true,
      "authorship_tag": "ABX9TyNV8rHl2wl2jRQQsnUh1nmV",
      "include_colab_link": true
    },
    "kernelspec": {
      "name": "python3",
      "display_name": "Python 3"
    },
    "accelerator": "GPU"
  },
  "cells": [
    {
      "cell_type": "markdown",
      "metadata": {
        "id": "view-in-github",
        "colab_type": "text"
      },
      "source": [
        "<a href=\"https://colab.research.google.com/github/uferic/ML0804/blob/master/test.ipynb\" target=\"_parent\"><img src=\"https://colab.research.google.com/assets/colab-badge.svg\" alt=\"Open In Colab\"/></a>"
      ]
    },
    {
      "cell_type": "code",
      "metadata": {
        "id": "_5KVabDlkOxA",
        "colab_type": "code",
        "colab": {}
      },
      "source": [
        "a = 3\n",
        "print(a)"
      ],
      "execution_count": null,
      "outputs": []
    }
  ]
}